{
  "cells": [
    {
      "cell_type": "markdown",
      "metadata": {
        "id": "view-in-github",
        "colab_type": "text"
      },
      "source": [
        "<a href=\"https://colab.research.google.com/github/xiaoyuan0203/stylegan2-ada-pytorch/blob/patch-1/ganyu-face-training-with-stylegan2-ada.ipynb\" target=\"_parent\"><img src=\"https://colab.research.google.com/assets/colab-badge.svg\" alt=\"Open In Colab\"/></a>"
      ]
    },
    {
      "cell_type": "markdown",
      "id": "860ad5ba",
      "metadata": {
        "papermill": {
          "duration": 0.007732,
          "end_time": "2022-02-19T20:23:59.084084",
          "exception": false,
          "start_time": "2022-02-19T20:23:59.076352",
          "status": "completed"
        },
        "tags": [],
        "pycharm": {
          "name": "#%% md\n"
        },
        "id": "860ad5ba"
      },
      "source": [
        "### Train your own GAN in a few lines of code!\n",
        "See original StyleGAN2 ADA github repo here: https://github.com/NVlabs/stylegan2-ada-pytorch\n",
        "\n",
        "By using a pre-trained model along with data heavy data augmentation, we can train our own GAN with a very limited dataset (<1000 images). \n",
        "\n",
        "Make sure you have a GPU runtime!"
      ]
    },
    {
      "cell_type": "code",
      "source": [
        "!pip install torch==1.9.1+cu111 torchvision==0.10.1+cu111 torchaudio==0.9.1 -f https://download.pytorch.org/whl/torch_stable.html"
      ],
      "metadata": {
        "id": "YkxB6eN7fakK"
      },
      "id": "YkxB6eN7fakK",
      "execution_count": null,
      "outputs": []
    },
    {
      "cell_type": "code",
      "source": [
        "!pip install kaggle"
      ],
      "metadata": {
        "id": "r-DnQdcKZ-dp"
      },
      "id": "r-DnQdcKZ-dp",
      "execution_count": null,
      "outputs": []
    },
    {
      "cell_type": "code",
      "source": [
        "from google.colab import files\n",
        "\n",
        "uploaded = files.upload()\n",
        "\n",
        "for fn in uploaded.keys():\n",
        "  print('User uploaded file \"{name}\" with length {length} bytes'.format(\n",
        "      name=fn, length=len(uploaded[fn])))\n",
        "  \n",
        "# Then move kaggle.json into the folder where the API expects to find it.\n",
        "!mkdir -p ~/.kaggle/ && mv kaggle.json ~/.kaggle/ && chmod 600 ~/.kaggle/kaggle.json"
      ],
      "metadata": {
        "id": "D4wo64Q5aIN4"
      },
      "id": "D4wo64Q5aIN4",
      "execution_count": null,
      "outputs": []
    },
    {
      "cell_type": "code",
      "source": [
        "!kaggle datasets download -d andy8744/ganyu-genshin-impact-anime-faces-gan-training -p ./datasets --unzip"
      ],
      "metadata": {
        "id": "CbFhIpGracPt"
      },
      "id": "CbFhIpGracPt",
      "execution_count": null,
      "outputs": []
    },
    {
      "cell_type": "code",
      "execution_count": null,
      "id": "bfc4b433",
      "metadata": {
        "execution": {
          "iopub.execute_input": "2022-02-19T20:23:59.102398Z",
          "iopub.status.busy": "2022-02-19T20:23:59.100907Z",
          "iopub.status.idle": "2022-02-19T20:24:33.138797Z",
          "shell.execute_reply": "2022-02-19T20:24:33.138260Z",
          "shell.execute_reply.started": "2022-02-19T20:13:23.734823Z"
        },
        "papermill": {
          "duration": 34.047985,
          "end_time": "2022-02-19T20:24:33.138936",
          "exception": false,
          "start_time": "2022-02-19T20:23:59.090951",
          "status": "completed"
        },
        "tags": [],
        "pycharm": {
          "name": "#%%\n"
        },
        "id": "bfc4b433"
      },
      "outputs": [],
      "source": [
        "!pip install pyspng ninja imageio-ffmpeg==0.4.3\n",
        "!git clone https://github.com/NVlabs/stylegan2-ada-pytorch\n",
        "!pip install gdown \n",
        "%cd ./stylegan2-ada-pytorch"
      ]
    },
    {
      "cell_type": "markdown",
      "id": "154983f3",
      "metadata": {
        "papermill": {
          "duration": 0.030712,
          "end_time": "2022-02-19T20:24:33.200445",
          "exception": false,
          "start_time": "2022-02-19T20:24:33.169733",
          "status": "completed"
        },
        "tags": [],
        "pycharm": {
          "name": "#%% md\n"
        },
        "id": "154983f3"
      },
      "source": [
        "### Preprocessing Dataset"
      ]
    },
    {
      "cell_type": "code",
      "execution_count": null,
      "id": "ad6ce1ee",
      "metadata": {
        "execution": {
          "iopub.execute_input": "2022-02-19T20:24:33.269720Z",
          "iopub.status.busy": "2022-02-19T20:24:33.268854Z",
          "iopub.status.idle": "2022-02-19T20:25:00.965442Z",
          "shell.execute_reply": "2022-02-19T20:25:00.964801Z",
          "shell.execute_reply.started": "2022-02-19T20:14:43.665717Z"
        },
        "papermill": {
          "duration": 27.733911,
          "end_time": "2022-02-19T20:25:00.965590",
          "exception": false,
          "start_time": "2022-02-19T20:24:33.231679",
          "status": "completed"
        },
        "tags": [],
        "pycharm": {
          "name": "#%%\n"
        },
        "id": "ad6ce1ee"
      },
      "outputs": [],
      "source": [
        "!python dataset_tool.py --source=./datasets/ganyu/ganyu-final --dest=./datasets/ganyu.zip"
      ]
    },
    {
      "cell_type": "markdown",
      "id": "eb86aa7f",
      "metadata": {
        "papermill": {
          "duration": 0.096593,
          "end_time": "2022-02-19T20:25:05.443781",
          "exception": false,
          "start_time": "2022-02-19T20:25:05.347188",
          "status": "completed"
        },
        "tags": [],
        "pycharm": {
          "name": "#%% md\n"
        },
        "id": "eb86aa7f"
      },
      "source": [
        "### Training will take a long time, make sure you have enough GPU hours available (minimum 10 hours required for good results)\n",
        "Do !python train.py --help to see the different optional arguments available.\n",
        "\n",
        "Resume from your previous checkpoint of notebook times out. Get output model from: ./stylegan2-ada-pytorch/results"
      ]
    },
    {
      "cell_type": "code",
      "execution_count": null,
      "id": "72c6395a",
      "metadata": {
        "execution": {
          "iopub.execute_input": "2022-02-19T20:25:05.643821Z",
          "iopub.status.busy": "2022-02-19T20:25:05.642952Z",
          "iopub.status.idle": "2022-02-20T06:58:41.989366Z",
          "shell.execute_reply": "2022-02-20T06:58:41.988793Z",
          "shell.execute_reply.started": "2022-02-19T20:18:43.228655Z"
        },
        "papermill": {
          "duration": 38016.450103,
          "end_time": "2022-02-20T06:58:41.989539",
          "exception": false,
          "start_time": "2022-02-19T20:25:05.539436",
          "status": "completed"
        },
        "tags": [],
        "pycharm": {
          "name": "#%%\n"
        },
        "id": "72c6395a"
      },
      "outputs": [],
      "source": [
        "!python train.py --outdir ./results --snap=1 --cfg=paper512 --data=./datasets/ganyu.zip --augpipe=\"bg\" --mirror=True --metrics=None --resume=./datasets/ganyu/rem-pretrained.pkl --augpipe=\"bg\" --kimg=145"
      ]
    },
    {
      "cell_type": "markdown",
      "id": "4193938a",
      "metadata": {
        "papermill": {
          "duration": 0.115212,
          "end_time": "2022-02-20T06:58:42.220549",
          "exception": false,
          "start_time": "2022-02-20T06:58:42.105337",
          "status": "completed"
        },
        "tags": [],
        "pycharm": {
          "name": "#%% md\n"
        },
        "id": "4193938a"
      },
      "source": [
        "Stopping training as example notebook"
      ]
    }
  ],
  "metadata": {
    "kernelspec": {
      "display_name": "Python 3",
      "language": "python",
      "name": "python3"
    },
    "language_info": {
      "codemirror_mode": {
        "name": "ipython",
        "version": 3
      },
      "file_extension": ".py",
      "mimetype": "text/x-python",
      "name": "python",
      "nbconvert_exporter": "python",
      "pygments_lexer": "ipython3",
      "version": "3.7.12"
    },
    "papermill": {
      "default_parameters": {},
      "duration": 38091.970309,
      "end_time": "2022-02-20T06:58:42.900625",
      "environment_variables": {},
      "exception": null,
      "input_path": "__notebook__.ipynb",
      "output_path": "__notebook__.ipynb",
      "parameters": {},
      "start_time": "2022-02-19T20:23:50.930316",
      "version": "2.3.3"
    },
    "colab": {
      "name": "ganyu-face-training-with-stylegan2-ada.ipynb",
      "provenance": [],
      "include_colab_link": true
    },
    "accelerator": "GPU"
  },
  "nbformat": 4,
  "nbformat_minor": 5
}