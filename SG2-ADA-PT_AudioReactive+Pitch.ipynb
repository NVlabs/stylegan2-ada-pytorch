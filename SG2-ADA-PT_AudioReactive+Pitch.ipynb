{
  "nbformat": 4,
  "nbformat_minor": 0,
  "metadata": {
    "colab": {
      "name": "StyleGAN2-ADA-PT-AudioReactive-Pitch",
      "provenance": [],
      "collapsed_sections": [],
      "toc_visible": true,
      "machine_shape": "hm",
      "authorship_tag": "ABX9TyNgKZTMo/vrJmyoXLzolnjy",
      "include_colab_link": true
    },
    "kernelspec": {
      "name": "python3",
      "display_name": "Python 3"
    },
    "accelerator": "GPU"
  },
  "cells": [
    {
      "cell_type": "markdown",
      "metadata": {
        "id": "view-in-github",
        "colab_type": "text"
      },
      "source": [
        "<a href=\"https://colab.research.google.com/github/dvschultz/stylegan2-ada-pytorch/blob/main/SG2-ADA-PT_AudioReactive%2BPitch.ipynb\" target=\"_parent\"><img src=\"https://colab.research.google.com/assets/colab-badge.svg\" alt=\"Open In Colab\"/></a>"
      ]
    },
    {
      "cell_type": "markdown",
      "metadata": {
        "id": "lC45WUtANxZ8"
      },
      "source": [
        "#StyleGAN2 Reactive Audio\n",
        "\n",
        "By Derrick Schultz for the StyleGAN2 Deep Dive class.\n",
        "\n",
        "This notebook shows one basic example of how to alter your StyleGAN2 vectors with audio. There are lots of different techniques to explore in this, but this is one simple way.\n",
        "\n",
        "Big thanks to Robert Luxemburg who provided the basis for a lot of this code with [this gist](https://gist.github.com/rolux/48f1da6cf2bc6ca5833dbacbf852b348)."
      ]
    },
    {
      "cell_type": "markdown",
      "metadata": {
        "id": "m788lAb7OtJt"
      },
      "source": [
        "##Installation\n",
        "\n",
        "First let’s install the repos and dependencies needed."
      ]
    },
    {
      "cell_type": "code",
      "metadata": {
        "id": "SxwgLpmczcxk",
        "colab": {
          "base_uri": "https://localhost:8080/"
        },
        "outputId": "94d127c7-371c-4fa0-e1fd-3c71879de131"
      },
      "source": [
        "!nvidia-smi -L"
      ],
      "execution_count": null,
      "outputs": [
        {
          "output_type": "stream",
          "text": [
            "GPU 0: Tesla V100-SXM2-16GB (UUID: GPU-769fd161-d896-0474-0c9d-83a26fc88732)\n"
          ],
          "name": "stdout"
        }
      ]
    },
    {
      "cell_type": "code",
      "metadata": {
        "id": "5n6wTwbFOofN",
        "colab": {
          "base_uri": "https://localhost:8080/"
        },
        "outputId": "489b7a00-65e3-435a-eacd-af01e582a6d0"
      },
      "source": [
        "# Derrick's repo (even if you trained with skyflynil this will work!)\n",
        "!git clone https://github.com/dvschultz/stylegan2-ada-pytorch #use this fork to get interpolation functions\n",
        "!pip install ninja opensimplex # needed for noise interpolation\n",
        "%cd stylegan2-ada-pytorch"
      ],
      "execution_count": null,
      "outputs": [
        {
          "output_type": "stream",
          "text": [
            "Cloning into 'stylegan2-ada-pytorch'...\n",
            "remote: Enumerating objects: 255, done.\u001b[K\n",
            "remote: Counting objects: 100% (9/9), done.\u001b[K\n",
            "remote: Compressing objects: 100% (7/7), done.\u001b[K\n",
            "remote: Total 255 (delta 4), reused 4 (delta 2), pack-reused 246\u001b[K\n",
            "Receiving objects: 100% (255/255), 1.18 MiB | 13.54 MiB/s, done.\n",
            "Resolving deltas: 100% (131/131), done.\n",
            "Collecting ninja\n",
            "\u001b[?25l  Downloading https://files.pythonhosted.org/packages/1d/de/393468f2a37fc2c1dc3a06afc37775e27fde2d16845424141d4da62c686d/ninja-1.10.0.post2-py3-none-manylinux1_x86_64.whl (107kB)\n",
            "\u001b[K     |████████████████████████████████| 112kB 13.4MB/s \n",
            "\u001b[?25hCollecting opensimplex\n",
            "  Downloading https://files.pythonhosted.org/packages/9c/ad/9b758f9ff9dcd23fc574bb3aa1de844adb1179c9be9711e9f798614d4b2f/opensimplex-0.3-py3-none-any.whl\n",
            "Installing collected packages: ninja, opensimplex\n",
            "Successfully installed ninja-1.10.0.post2 opensimplex-0.3\n",
            "/content/stylegan2-ada-pytorch\n"
          ],
          "name": "stdout"
        }
      ]
    },
    {
      "cell_type": "markdown",
      "metadata": {
        "id": "FMQbSgmMnDDw"
      },
      "source": [
        "### Import a .pkl file here\n",
        "\n",
        "You can either upload one or use gdown to import one from Google Drive"
      ]
    },
    {
      "cell_type": "code",
      "metadata": {
        "id": "RjLMuFGqPCez",
        "colab": {
          "base_uri": "https://localhost:8080/"
        },
        "outputId": "2fdcf990-1bd9-4974-d910-0b3a2b79b1cf"
      },
      "source": [
        "!gdown --id 1K7mgdzdQwOERoyft95eFg1-5Tj4XcMAc -O /content/freagan.pkl"
      ],
      "execution_count": null,
      "outputs": [
        {
          "output_type": "stream",
          "text": [
            "Downloading...\n",
            "From: https://drive.google.com/uc?id=1K7mgdzdQwOERoyft95eFg1-5Tj4XcMAc\n",
            "To: /content/freagan.pkl\n",
            "382MB [00:03, 110MB/s]\n"
          ],
          "name": "stdout"
        }
      ]
    },
    {
      "cell_type": "markdown",
      "metadata": {
        "id": "4DWRv9BWTr4A"
      },
      "source": [
        "## Upload an audio file\n",
        "\n",
        "I recommend uploading something simple to start with (think a single instrument or track with silence in it). The file should be in .mp3 or .wav format."
      ]
    },
    {
      "cell_type": "code",
      "metadata": {
        "id": "DPIf-xU-TxdN",
        "colab": {
          "resources": {
            "http://localhost:8080/nbextensions/google.colab/files.js": {
              "data": "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",
              "ok": true,
              "headers": [
                [
                  "content-type",
                  "application/javascript"
                ]
              ],
              "status": 200,
              "status_text": ""
            }
          },
          "base_uri": "https://localhost:8080/",
          "height": 72
        },
        "outputId": "87bf15c0-f392-4ff2-db8a-9c05647b50e2"
      },
      "source": [
        "from google.colab import files\n",
        "\n",
        "uploaded = files.upload()\n",
        "\n",
        "# for fn in uploaded.keys():\n",
        "#   print('User uploaded file \"{name}\" with length {length} bytes'.format(\n",
        "#       name=fn, length=len(uploaded[fn])))"
      ],
      "execution_count": null,
      "outputs": [
        {
          "output_type": "display_data",
          "data": {
            "text/html": [
              "\n",
              "     <input type=\"file\" id=\"files-424fbdaa-f0ed-475e-8329-ee8da070d429\" name=\"files[]\" multiple disabled\n",
              "        style=\"border:none\" />\n",
              "     <output id=\"result-424fbdaa-f0ed-475e-8329-ee8da070d429\">\n",
              "      Upload widget is only available when the cell has been executed in the\n",
              "      current browser session. Please rerun this cell to enable.\n",
              "      </output>\n",
              "      <script src=\"/nbextensions/google.colab/files.js\"></script> "
            ],
            "text/plain": [
              "<IPython.core.display.HTML object>"
            ]
          },
          "metadata": {
            "tags": []
          }
        },
        {
          "output_type": "stream",
          "text": [
            "Saving rushing-back-clip.wav to rushing-back-clip.wav\n"
          ],
          "name": "stdout"
        }
      ]
    },
    {
      "cell_type": "markdown",
      "metadata": {
        "id": "1JXB3HnLjP-j"
      },
      "source": [
        "##Process audio\n",
        "The next step process our audio files. Edit the first line of the next cell to point to your audio file. The run the cell after that to process the audio and generate a graph of the volume data."
      ]
    },
    {
      "cell_type": "code",
      "metadata": {
        "id": "i8TWpZNjTwWa"
      },
      "source": [
        "# make sure you are pointing to your audio file\n",
        "wav_filename = '/content/test.wav'\n",
        "# set th framerat for your video output\n",
        "fps = 24\n"
      ],
      "execution_count": null,
      "outputs": []
    },
    {
      "cell_type": "markdown",
      "metadata": {
        "id": "PhswH3EwngCU"
      },
      "source": [
        "Run this cell to process the audio file (you don’t need to edit anything)."
      ]
    },
    {
      "cell_type": "code",
      "metadata": {
        "id": "tMKDAPieT7XE",
        "colab": {
          "base_uri": "https://localhost:8080/",
          "height": 227
        },
        "outputId": "e87bacaa-1372-4780-9682-25ea2ccf772c"
      },
      "source": [
        "import os\n",
        "import numpy as np\n",
        "from scipy.interpolate import interp1d\n",
        "from scipy.io import wavfile\n",
        "import matplotlib.pyplot as plt\n",
        "import PIL.Image\n",
        "import moviepy.editor\n",
        "\n",
        "# import dnnlib\n",
        "# import dnnlib.tflib as tflib\n",
        "# import pickle\n",
        "# import pretrained_networks\n",
        "\n",
        "audio = {}\n",
        "\n",
        "if not os.path.exists(wav_filename):\n",
        "    audio_clip = moviepy.editor.AudioFileClip(wav_filename)\n",
        "    audio_clip.write_audiofile(wav_filename, fps=44100, nbytes=2, codec='pcm_s16le')\n",
        "track_name = os.path.basename(wav_filename)[:-4]\n",
        "rate, signal = wavfile.read(wav_filename)\n",
        "signal = np.mean(signal, axis=1) # to mono\n",
        "signal = np.abs(signal)\n",
        "# seed = signal.shape[0]\n",
        "duration = signal.shape[0] / rate\n",
        "frames = int(np.ceil(duration * fps))\n",
        "samples_per_frame = signal.shape[0] / frames\n",
        "audio[track_name] = np.zeros(frames, dtype=signal.dtype)\n",
        "for frame in range(frames):\n",
        "    start = int(round(frame * samples_per_frame))\n",
        "    stop = int(round((frame + 1) * samples_per_frame))\n",
        "    audio[track_name][frame] = np.mean(signal[start:stop], axis=0)\n",
        "audio[track_name] /= max(audio[track_name])\n",
        "\n",
        "for track in sorted(audio.keys()):\n",
        "    plt.figure(figsize=(8, 3))\n",
        "    plt.title(track)\n",
        "    plt.plot(audio[track])\n",
        "    plt.savefig(f'../{track}.png')"
      ],
      "execution_count": null,
      "outputs": [
        {
          "output_type": "display_data",
          "data": {
            "image/png": "[encoded data removed]",
            "text/plain": [
              "<Figure size 576x216 with 1 Axes>"
            ]
          },
          "metadata": {
            "tags": [],
            "needs_background": "light"
          }
        }
      ]
    },
    {
      "cell_type": "markdown",
      "metadata": {
        "id": "ONTlyw6ZUNQl"
      },
      "source": [
        "Run the next cell to define some functions we’ll need to use to generate our inference images."
      ]
    },
    {
      "cell_type": "code",
      "metadata": {
        "id": "KyCHTNpzPuWL"
      },
      "source": [
        "import dnnlib\n",
        "import numpy as np\n",
        "import torch\n",
        "import PIL.Image\n",
        "import legacy\n",
        "\n",
        "\n",
        "def line_interpolate(zs, steps, easing):\n",
        "    out = []\n",
        "    for i in range(len(zs)-1):\n",
        "        for index in range(steps):\n",
        "            t = index/float(steps)\n",
        "\n",
        "            if(easing == 'linear'):\n",
        "                out.append(zs[i+1]*t + zs[i]*(1-t))\n",
        "            elif (easing == 'easeInOutQuad'):\n",
        "                if(t < 0.5):\n",
        "                    fr = 2 * t * t\n",
        "                else:\n",
        "                    fr = (-2 * t * t) + (4 * t) - 1\n",
        "                out.append(zs[i+1]*fr + zs[i]*(1-fr))\n",
        "            elif (easing == 'bounceEaseOut'):\n",
        "                if (t < 4/11):\n",
        "                    fr = 121 * t * t / 16\n",
        "                elif (t < 8/11):\n",
        "                    fr = (363 / 40.0 * t * t) - (99 / 10.0 * t) + 17 / 5.0\n",
        "                elif t < 9/ 0:\n",
        "                    fr = (4356 / 361.0 * t * t) - (35442 / 1805.0 * t) + 16061 / 1805.0\n",
        "                else:\n",
        "                    fr = (54 / 5.0 * t * t) - (513 / 25.0 * t) + 268 / 25.0\n",
        "                out.append(zs[i+1]*fr + zs[i]*(1-fr))\n",
        "            elif (easing == 'circularEaseOut'):\n",
        "                fr = np.sqrt((2 - t) * t)\n",
        "                out.append(zs[i+1]*fr + zs[i]*(1-fr))\n",
        "            elif (easing == 'circularEaseOut2'):\n",
        "                fr = np.sqrt(np.sqrt((2 - t) * t))\n",
        "                out.append(zs[i+1]*fr + zs[i]*(1-fr))\n",
        "    return out\n",
        "\n",
        "\n",
        "def images(G,device,inputs,space,truncation_psi,label,noise_mode,outdir,start=None,stop=None):\n",
        "    if(start is not None and stop is not None):\n",
        "        tp = start\n",
        "        tp_i = (stop-start)/len(inputs)\n",
        "\n",
        "    for idx, i in enumerate(inputs):\n",
        "        print('Generating image for frame %d/%d ...' % (idx, len(inputs)))\n",
        "        \n",
        "        if (space=='z'):\n",
        "            z = torch.from_numpy(i).to(device)\n",
        "            if(start is not None and stop is not None):\n",
        "                img = G(z, label, truncation_psi=tp, noise_mode=noise_mode)\n",
        "                tp = tp+tp_i\n",
        "            else:\n",
        "                img = G(z, label, truncation_psi=truncation_psi, noise_mode=noise_mode)\n",
        "        else:\n",
        "            if i.shape[0] == 18: \n",
        "              i = torch.from_numpy(i).unsqueeze(0).to(device)\n",
        "            img = G.synthesis(i, noise_mode=noise_mode, force_fp32=True)\n",
        "        img = (img.permute(0, 2, 3, 1) * 127.5 + 128).clamp(0, 255).to(torch.uint8)\n",
        "        PIL.Image.fromarray(img[0].cpu().numpy(), 'RGB').save(f'{outdir}/frame{idx:04d}.png')\n",
        "\n",
        "# def lerp(v0, v1, t):\n",
        "#     # print(t)\n",
        "#     return v1*t + v0*(1-t)\n",
        "    \n",
        "\n",
        "def seeds_to_zs(G,seeds):\n",
        "    zs = []\n",
        "    for seed_idx, seed in enumerate(seeds):\n",
        "        z = np.random.RandomState(seed).randn(1, G.z_dim)\n",
        "        zs.append(z)\n",
        "    return zs\n",
        "\n",
        "def valmap(value, istart, istop, ostart, ostop):\n",
        "    return ostart + (ostop - ostart) * ((value - istart) / (istop - istart))\n",
        "\n",
        "def zs_to_ws(G,device,label,truncation_psi,zs):\n",
        "    ws = []\n",
        "    for z_idx, z in enumerate(zs):\n",
        "        z = torch.from_numpy(z).to(device)\n",
        "        w = G.mapping(z, label, truncation_psi=truncation_psi, truncation_cutoff=8)\n",
        "        ws.append(w)\n",
        "    return ws"
      ],
      "execution_count": null,
      "outputs": []
    },
    {
      "cell_type": "markdown",
      "metadata": {
        "id": "kByt3G4yUp02"
      },
      "source": [
        "## Generate Images\n",
        "\n",
        "### Use Volume to interpolate between two seeds\n",
        "The next cell will take two seed values and do a linear interpolation of them using the volume from your audio. When the audio is silent, it will be the first seed you list. When it is at its loudest it will be the second. Everything in between will be an interpolated value."
      ]
    },
    {
      "cell_type": "code",
      "metadata": {
        "id": "VSPddCx9iVSR"
      },
      "source": [
        "# set each of these variables\n",
        "network_pkl = '/content/freagan.pkl'\n",
        "seeds=[38,11]\n",
        "truncation_psi = 0.5\n",
        "outdir = '/content/out/'\n",
        "\n",
        "# ---------------------------\n",
        "#you probably won't need to edit anything below this\n",
        "# ---------------------------\n",
        "print('Loading networks from \"%s\"...' % network_pkl)\n",
        "device = torch.device('cuda')\n",
        "with dnnlib.util.open_url(network_pkl) as f:\n",
        "    G = legacy.load_network_pkl(f)['G_ema'].to(device) # type: ignore\n",
        "\n",
        "os.makedirs(outdir, exist_ok=True)\n",
        "\n",
        "label = torch.zeros([1, G.c_dim], device=device)\n",
        "\n",
        "\n",
        "def lerp(v0, v1, t):\n",
        "    # print(t)\n",
        "    return v0*(1.0-t)+v1*t\n",
        "\n",
        "\n",
        "ends = seeds_to_zs(G,seeds)\n",
        "ends_w = zs_to_ws(G,device,label,truncation_psi,ends)\n",
        "\n",
        "vectors = []\n",
        "for f in range(frames):\n",
        "  vectors.append(lerp(ends_w[0],ends_w[1],audio[track_name][f]))\n",
        "\n",
        "#generate_images_in_w_space(vectors,truncation_value)\n",
        "\n",
        "images(G,device,vectors,'w',truncation_psi,label,'const',outdir,start=None,stop=None)\n"
      ],
      "execution_count": null,
      "outputs": []
    },
    {
      "cell_type": "markdown",
      "metadata": {
        "id": "tOkh2DZpV-9W"
      },
      "source": [
        "### Combine the frames into a video and add the audio track back to it\n",
        "\n",
        "There’s probably a cleaner way to do this all in moviepy but I’m being lazy."
      ]
    },
    {
      "cell_type": "code",
      "metadata": {
        "id": "dPClSNx_Atn-"
      },
      "source": [
        "!ffmpeg -r {fps} -i {outdir}frame%04d.png -vcodec libx264 -pix_fmt yuv420p /content/out.mp4"
      ],
      "execution_count": null,
      "outputs": []
    },
    {
      "cell_type": "code",
      "metadata": {
        "id": "R7TUwqrTi4y-"
      },
      "source": [
        "mp4_filename = '/content/combined.mp4'\n",
        "# video_clip = moviepy.editor.VideoClip(render_frame, duration=duration)\n",
        "video_clip = moviepy.editor.VideoFileClip('/content/out.mp4')\n",
        "audio_clip_i = moviepy.editor.AudioFileClip(wav_filename)\n",
        "video_clip = video_clip.set_audio(audio_clip_i)\n",
        "video_clip.write_videofile(mp4_filename, fps=fps, codec='libx264', audio_codec='aac', bitrate='15M')"
      ],
      "execution_count": null,
      "outputs": []
    },
    {
      "cell_type": "markdown",
      "metadata": {
        "id": "xCjfK_ItjJDb"
      },
      "source": [
        "## Pitch Control\n",
        "\n",
        "The above video processes volume, but maybe we want to process pitch change?\n",
        "\n",
        "For this to work correctly I highly recommend you use an audio sample of a single instrument (singing, piano, flute, etc.). Polyphonic sound tends to confuse this model."
      ]
    },
    {
      "cell_type": "code",
      "metadata": {
        "id": "H9aCVCJ8jRuD"
      },
      "source": [
        "!pip install crepe"
      ],
      "execution_count": null,
      "outputs": []
    },
    {
      "cell_type": "markdown",
      "metadata": {
        "id": "LDcvKdaRoSfW"
      },
      "source": [
        "Uncomment and edit these lines only if you want to change the settings from your previous video. Otherwise it will use the settings from earlier cells."
      ]
    },
    {
      "cell_type": "code",
      "metadata": {
        "id": "zBtAB5g4oRxP"
      },
      "source": [
        "# wav_filename = '/content/test.wav'\n",
        "# fps = 24\n",
        "# network_pkl = '/content/freagan.pkl'\n",
        "# seeds=[38,11]\n",
        "# truncation_psi = 0.5\n",
        "outdir = '/content/out-pitch/'"
      ],
      "execution_count": null,
      "outputs": []
    },
    {
      "cell_type": "markdown",
      "metadata": {
        "id": "Pfb5tHG7olnf"
      },
      "source": [
        "Now, run each cell in order to produce a linear interpolation between two points according to pitch from your audio file."
      ]
    },
    {
      "cell_type": "code",
      "metadata": {
        "id": "HI5usILyjkM9"
      },
      "source": [
        "import crepe\n",
        "from scipy.io import wavfile\n",
        "\n",
        "sr, audio_w = wavfile.read(wav_filename)\n",
        "time, frequency, confidence, activation = crepe.predict(audio_w, sr, viterbi=False,step_size=40)"
      ],
      "execution_count": null,
      "outputs": []
    },
    {
      "cell_type": "code",
      "metadata": {
        "id": "Mr6kqGWKjutu"
      },
      "source": [
        "def mapped(x):\n",
        "  val = (x-minf)/(maxf-minf)\n",
        "  return (val*(mapmax-mapmin))+mapmin\n",
        "\n",
        "minf = min(frequency)\n",
        "maxf = max(frequency)\n",
        "mapmin = 0.0\n",
        "mapmax = 1.0\n",
        "\n",
        "for t in np.arange(len(time)):\n",
        "  print(mapped(frequency[t]))"
      ],
      "execution_count": null,
      "outputs": []
    },
    {
      "cell_type": "code",
      "metadata": {
        "id": "HvdmS30NpWCB"
      },
      "source": [
        "plt.plot(audio[track])\n",
        "plt.plot(frequency,'g')\n",
        "plt.show()"
      ],
      "execution_count": null,
      "outputs": []
    },
    {
      "cell_type": "code",
      "metadata": {
        "id": "kJXtRjfVkGBQ"
      },
      "source": [
        "vectors = []\n",
        "for f in range(frames):\n",
        "  vectors.append(lerp(ends_w[0],ends_w[1],mapped(frequency[f])))\n",
        "\n",
        "os.makedirs(outdir, exist_ok=True)\n",
        "images(G,device,vectors,'w',truncation_psi,label,'const',outdir,start=None,stop=None)"
      ],
      "execution_count": null,
      "outputs": []
    },
    {
      "cell_type": "code",
      "metadata": {
        "id": "Vq-n0aHTSo76"
      },
      "source": [
        "!ffmpeg -r {fps} -i {outdir}frame%04d.png -vcodec libx264 -pix_fmt yuv420p /content/out-pitch.mp4\n",
        "mp4_filename = '/content/combined-pitch.mp4'\n",
        "# video_clip = moviepy.editor.VideoClip(render_frame, duration=duration)\n",
        "video_clip = moviepy.editor.VideoFileClip('/content/out-pitch.mp4')\n",
        "audio_clip_i = moviepy.editor.AudioFileClip(wav_filename)\n",
        "video_clip = video_clip.set_audio(audio_clip_i)\n",
        "video_clip.write_videofile(mp4_filename, fps=fps, codec='libx264', audio_codec='aac', bitrate='15M')"
      ],
      "execution_count": null,
      "outputs": []
    },
    {
      "cell_type": "markdown",
      "metadata": {
        "id": "30Z-gYgfmPAR"
      },
      "source": [
        "<h1><font color='red'>Stop!</font></h1>\n",
        "\n",
        "# Nothing past here works (yet!)\n",
        "\n",
        "I’ll come back to this in the next week or two, promise."
      ]
    },
    {
      "cell_type": "markdown",
      "metadata": {
        "id": "ibDI8hGWWPD0"
      },
      "source": [
        "## Use Volume to control truncation\n",
        "In this example, we’ll use almost the same technique but use volume to change the truncation value. \n",
        "\n",
        "It’s helpful that both interpolation and truncation are essentially 0.0 to 1.0. This matches the volume signal’s output, but what if we wanted to alter it?"
      ]
    },
    {
      "cell_type": "code",
      "metadata": {
        "id": "X2LpM3o05no6"
      },
      "source": [
        "def mapped(x):\n",
        "  val = (x-minf)/(maxf-minf)\n",
        "  return (val*(mapmax-mapmin))+mapmin\n",
        "\n",
        "# minf = min(frequency)\n",
        "# maxf = max(frequency)\n",
        "minf = 0.0\n",
        "maxf = 1.0\n",
        "print(minf,maxf)\n",
        "mapmin = 0.4\n",
        "mapmax = 0.8\n",
        "\n",
        "# for t in np.arange(len(time)):\n",
        "#   print(mapped(frequency[t]))\n",
        "\n",
        "print(len(audio[track_name]))\n",
        "\n",
        "for f in range(frames):\n",
        "  print(mapped(audio[track_name][f]))"
      ],
      "execution_count": null,
      "outputs": []
    },
    {
      "cell_type": "code",
      "metadata": {
        "id": "ifbLsbOcXsgy"
      },
      "source": [
        "seeds=[10]\n",
        "\n",
        "#you probably won't need to edit anything below this\n",
        "tflib.init_tf()\n",
        "print('Loading networks from \"%s\"...' % network_pkl)\n",
        "with dnnlib.util.open_url(network_pkl) as fp:\n",
        "    _G, _D, Gs = pickle.load(fp)\n",
        "\n",
        "Gs_kwargs = {\n",
        "    'output_transform': dict(func=tflib.convert_images_to_uint8, nchw_to_nhwc=True),\n",
        "    'randomize_noise': False\n",
        "}\n",
        "if truncation_psi is not None:\n",
        "    Gs_kwargs['truncation_psi'] = truncation_psi\n",
        "Gs_syn_kwargs = Gs_kwargs\n",
        "Gs_syn_kwargs['minibatch_size'] = 4\n",
        "noise_vars = [var for name, var in Gs.components.synthesis.vars.items() if name.startswith('noise')]\n",
        "w_avg = Gs.get_var('dlatent_avg')\n",
        "\n",
        "seed_z = generate_zs_from_seeds(seeds,Gs)\n",
        "\n",
        "rnd = np.random.RandomState(seeds[0])\n",
        "\n",
        "temp_dir = '%s-trunc_frames%06d'%(track_name,int(1000000*random.random()))\n",
        "os.system('mkdir %s'%temp_dir)\n",
        "\n",
        "for f in range(frames):\n",
        "  print('Rendering frame %d/%d ...' % (f,frames))\n",
        "\n",
        "  #edit the next line to alter the volume signal\n",
        "  # Gs_kwargs.truncation_psi = audio[track_name][f]*2 #multiply by 2 (0.0 to 2.0 for volume signal/truncation value now)\n",
        "  Gs_kwargs.truncation_psi = (audio[track_name][f]-0.5)*2 #(-1.0 to 1.0 for volume signal/truncation value now)\n",
        "\n",
        "  tflib.set_vars({var: rnd.randn(*var.shape.as_list()) for var in noise_vars}) # [height, width]\n",
        "  images = Gs.run(seed_z[0], None, **Gs_kwargs) # [minibatch, height, width, channel]\n",
        "  PIL.Image.fromarray(images[0], 'RGB').save('%s/frame%05d.png' % (temp_dir,f))"
      ],
      "execution_count": null,
      "outputs": []
    },
    {
      "cell_type": "code",
      "metadata": {
        "id": "gw3negi0e7ll"
      },
      "source": [
        "!ffmpeg -r 12 -i /content/stylegan2/bass-trunc_frames844699/frame%05d.png -vcodec libx264 -pix_fmt yuv420p /content/bass-truncation-volume.mp4"
      ],
      "execution_count": null,
      "outputs": []
    },
    {
      "cell_type": "code",
      "metadata": {
        "id": "g1AC2mF1bwKP",
        "colab": {
          "base_uri": "https://localhost:8080/",
          "height": 170
        },
        "outputId": "38b8c4b9-32b0-4e42-c352-4eea813eb9d6"
      },
      "source": [
        "mp4_filename = '../volume-trunc-test-all.mp4'\n",
        "# video_clip = moviepy.editor.VideoClip(render_frame, duration=duration)\n",
        "video_clip = moviepy.editor.VideoFileClip('/content/bass-truncation-volume.mp4')\n",
        "audio_clip_i = moviepy.editor.AudioFileClip('/content/AI.mp3')\n",
        "video_clip = video_clip.set_audio(audio_clip_i)\n",
        "video_clip.write_videofile(mp4_filename, fps=fps, codec='libx264', audio_codec='aac', bitrate='8M')"
      ],
      "execution_count": null,
      "outputs": [
        {
          "output_type": "stream",
          "text": [
            "[MoviePy] >>>> Building video ../volume-trunc-test-all.mp4\n",
            "[MoviePy] Writing audio in volume-trunc-test-allTEMP_MPY_wvf_snd.mp4\n"
          ],
          "name": "stdout"
        },
        {
          "output_type": "stream",
          "text": [
            "100%|██████████| 1008/1008 [00:01<00:00, 622.07it/s]"
          ],
          "name": "stderr"
        },
        {
          "output_type": "stream",
          "text": [
            "[MoviePy] Done.\n",
            "[MoviePy] Writing video ../volume-trunc-test-all.mp4\n"
          ],
          "name": "stdout"
        },
        {
          "output_type": "stream",
          "text": [
            "\n",
            "100%|█████████▉| 549/550 [00:38<00:00, 14.21it/s]\n"
          ],
          "name": "stderr"
        },
        {
          "output_type": "stream",
          "text": [
            "[MoviePy] Done.\n",
            "[MoviePy] >>>> Video ready: ../volume-trunc-test-all.mp4 \n",
            "\n"
          ],
          "name": "stdout"
        }
      ]
    },
    {
      "cell_type": "markdown",
      "metadata": {
        "id": "N_78NFCdqL68"
      },
      "source": [
        "## Using feature vectors\n",
        "\n",
        "Let’s look at an example using a feature vector. In this case we’ll just use the straight audio signal.\n",
        "\n",
        "Upload your feature vector to Colab and then reference it’s location with a variable."
      ]
    },
    {
      "cell_type": "code",
      "metadata": {
        "id": "Kl5w7TaLxldW",
        "colab": {
          "base_uri": "https://localhost:8080/",
          "height": 51
        },
        "outputId": "8328616c-95ef-4a20-cb35-7ba5c9e7baf6"
      },
      "source": [
        "network_pkl = \"/content/ffhq.pkl\"\n",
        "\n",
        "tflib.init_tf()\n",
        "print('Loading networks from \"%s\"...' % network_pkl)\n",
        "with dnnlib.util.open_url(network_pkl) as fp:\n",
        "    _G, _D, Gs = pickle.load(fp)\n",
        "\n",
        "Gs_kwargs = {\n",
        "    'output_transform': dict(func=tflib.convert_images_to_uint8, nchw_to_nhwc=True),\n",
        "    'randomize_noise': False\n",
        "}\n",
        "if truncation_psi is not None:\n",
        "    Gs_kwargs['truncation_psi'] = truncation_psi\n",
        "Gs_syn_kwargs = Gs_kwargs\n",
        "Gs_syn_kwargs['minibatch_size'] = 4\n",
        "noise_vars = [var for name, var in Gs.components.synthesis.vars.items() if name.startswith('noise')]\n",
        "w_avg = Gs.get_var('dlatent_avg')\n",
        "\n",
        "def generate_mov(seed, truncation, direction_vec, scale, n_frames, out_name = 'out', noise_spec = None, loop=True):\n",
        "  \"\"\"Generates a mov moving back and forth along the chosen direction vector\"\"\"\n",
        "  # Example of reading a generated set of images, and storing as MP4.\n",
        "  %mkdir out\n",
        "  movieName = f'out/{out_name}.mp4'\n",
        "  offset = -10\n",
        "  step = 20 / n_frames\n",
        "  imgs = []\n",
        "  for i in range(n_frames):\n",
        "    print(f'{i} / {n_frames}')\n",
        "    \n",
        "    \n",
        "    batch_size = 1\n",
        "    all_seeds = [seed] * batch_size\n",
        "    all_z = np.stack([np.random.RandomState(seed).randn(*Gs.input_shape[1:]) for seed in all_seeds]) # [minibatch, component]\n",
        "    all_w = Gs.components.mapping.run(all_z, None) # [minibatch, layer, component]\n",
        "    if truncation != 1:\n",
        "        w_avg = Gs.get_var('dlatent_avg')\n",
        "        all_w = w_avg + (all_w - w_avg) * truncation # [minibatch, layer, component]\n",
        "    all_w += direction_vec * offset * scale\n",
        "    all_images = Gs.components.synthesis.run(all_w, **Gs_syn_kwargs)\n",
        "    #save image and display\n",
        "    final_im = PIL.Image.fromarray(np.median(all_images, axis=0).astype(np.uint8))\n",
        "    imgs.append(final_im)\n",
        "    #increase offset\n",
        "    offset += step\n",
        "  if loop:\n",
        "    imgs += imgs[::-1]\n",
        "  with imageio.get_writer(movieName, mode='I') as writer:\n",
        "    for image in log_progress(list(imgs), name = \"Creating animation\"):\n",
        "        writer.append_data(np.array(image))"
      ],
      "execution_count": null,
      "outputs": [
        {
          "output_type": "stream",
          "text": [
            "Setting up TensorFlow plugin \"fused_bias_act.cu\": Preprocessing... Compiling... Loading... Done.\n",
            "Setting up TensorFlow plugin \"upfirdn_2d.cu\": Preprocessing... Compiling... Loading... Done.\n"
          ],
          "name": "stdout"
        }
      ]
    },
    {
      "cell_type": "code",
      "metadata": {
        "id": "PA40ehfqy2S2"
      },
      "source": [
        "seed = 10 # starting seed (will appear at 0.5)\n",
        "truncation = 0.7\n",
        "feature = '/content/profile-c2.npy'\n",
        "feature_range = 2 # feature_range maps the range of change in features \n",
        "scale = 1 # scale multiples the strength of the feature (1 is prob fine)\n",
        "\n",
        "#-------------------\n",
        "\n",
        "tflib.init_tf()\n",
        "print('Loading networks from \"%s\"...' % network_pkl)\n",
        "with dnnlib.util.open_url(network_pkl) as fp:\n",
        "    _G, _D, Gs = pickle.load(fp)\n",
        "\n",
        "Gs_kwargs = {\n",
        "    'output_transform': dict(func=tflib.convert_images_to_uint8, nchw_to_nhwc=True),\n",
        "    'randomize_noise': False\n",
        "}\n",
        "if truncation_psi is not None:\n",
        "    Gs_kwargs['truncation_psi'] = truncation_psi\n",
        "Gs_syn_kwargs = Gs_kwargs\n",
        "Gs_syn_kwargs['minibatch_size'] = 4\n",
        "noise_vars = [var for name, var in Gs.components.synthesis.vars.items() if name.startswith('noise')]\n",
        "w_avg = Gs.get_var('dlatent_avg')\n",
        "\n",
        "# get starting z and w\n",
        "rnd = np.random.RandomState(seed)\n",
        "z = rnd.randn(1, *Gs.input_shape[1:])\n",
        "w = Gs.components.mapping.run(z, None)\n",
        "\n",
        "# make dir\n",
        "feature_name=os.path.basename(feature)[:-4] \n",
        "dir = '%s_%s_range%02d_seed%05d'%(track_name,feature_name,feature_range,seed)\n",
        "os.system('mkdir %s'%dir)\n",
        "\n",
        "# setup\n",
        "feature_vec = np.load(feature)\n",
        "min_range = -feature_range\n",
        "max_range = feature_range\n",
        "offset = min_range #start value\n",
        "\n",
        "#generate frames\n",
        "for f in range(frames):\n",
        "  print('Rendering frame %d/%d ...' % (f,frames))\n",
        "\n",
        "  if truncation != 1:\n",
        "    w = w_avg + (w - w_avg) * truncation # [minibatch, layer, component]\n",
        "  \n",
        "  w += feature_vec * offset * scale\n",
        "\n",
        "  #save image and display\n",
        "  image = Gs.components.synthesis.run(w, **Gs_syn_kwargs)\n",
        "  PIL.Image.fromarray(image[0],'RGB').save('%s/frame%05d.png' % (dir,f))\n",
        "  \n",
        "  #increase offset\n",
        "  offset = lerp( min_range,max_range,audio[track_name][f] )\n",
        "\n",
        "  "
      ],
      "execution_count": null,
      "outputs": []
    },
    {
      "cell_type": "code",
      "metadata": {
        "id": "Hbk-mwtQ2oWj"
      },
      "source": [
        "!ffmpeg -r 60 -i /content/stylegan2/pleasureisallmine_01-stereo_profile-c2_range02_seed00010/frame%05d.png -vcodec libx264 -pix_fmt yuv420p /content/sound-feature-volume-range2.mp4"
      ],
      "execution_count": null,
      "outputs": []
    },
    {
      "cell_type": "code",
      "metadata": {
        "id": "JnoVg2o0AE3_",
        "colab": {
          "base_uri": "https://localhost:8080/",
          "height": 170
        },
        "outputId": "70604c5d-6f71-4e47-b6df-a87ef1b3906d"
      },
      "source": [
        "mp4_filename = '../volume-feature-test-range2.mp4'\n",
        "# video_clip = moviepy.editor.VideoClip(render_frame, duration=duration)\n",
        "video_clip = moviepy.editor.VideoFileClip('/content/sound-feature-volume-range2.mp4')\n",
        "audio_clip_i = moviepy.editor.AudioFileClip('/content/stylegan2/pleasureisallmine_01-stereo.wav')\n",
        "video_clip = video_clip.set_audio(audio_clip_i)\n",
        "video_clip.write_videofile(mp4_filename, fps=fps, codec='libx264', audio_codec='aac', bitrate='8M')"
      ],
      "execution_count": null,
      "outputs": [
        {
          "output_type": "stream",
          "text": [
            "[MoviePy] >>>> Building video ../volume-feature-test-range2.mp4\n",
            "[MoviePy] Writing audio in volume-feature-test-range2TEMP_MPY_wvf_snd.mp4\n"
          ],
          "name": "stdout"
        },
        {
          "output_type": "stream",
          "text": [
            "100%|██████████| 128/128 [00:00<00:00, 640.23it/s]"
          ],
          "name": "stderr"
        },
        {
          "output_type": "stream",
          "text": [
            "[MoviePy] Done.\n",
            "[MoviePy] Writing video ../volume-feature-test-range2.mp4\n"
          ],
          "name": "stdout"
        },
        {
          "output_type": "stream",
          "text": [
            "\n",
            "100%|██████████| 347/347 [00:15<00:00, 22.54it/s]\n"
          ],
          "name": "stderr"
        },
        {
          "output_type": "stream",
          "text": [
            "[MoviePy] Done.\n",
            "[MoviePy] >>>> Video ready: ../volume-feature-test-range2.mp4 \n",
            "\n"
          ],
          "name": "stdout"
        }
      ]
    },
    {
      "cell_type": "code",
      "metadata": {
        "id": "ZMyuqpcDBqQ3"
      },
      "source": [
        ""
      ],
      "execution_count": null,
      "outputs": []
    }
  ]
}